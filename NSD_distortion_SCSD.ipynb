{
 "cells": [
  {
   "cell_type": "markdown",
   "id": "edfd04af",
   "metadata": {},
   "source": [
    "SCSD code"
   ]
  },
  {
   "cell_type": "code",
   "execution_count": null,
   "id": "8a4b5f2d",
   "metadata": {},
   "outputs": [],
   "source": [
    "from scsd import scsd\n",
    "import numpy as np\n",
    "import pandas as pd\n",
    "from io import StringIO\n",
    "from IPython.display import display, HTML"
   ]
  },
  {
   "cell_type": "code",
   "execution_count": null,
   "id": "c324ae31",
   "metadata": {},
   "outputs": [],
   "source": [
    "!pip uninstall numpy==2.3.0 -y"
   ]
  },
  {
   "cell_type": "code",
   "execution_count": null,
   "id": "db60d8d8",
   "metadata": {},
   "outputs": [],
   "source": [
    "!pip install numpy==1.26.0"
   ]
  },
  {
   "cell_type": "markdown",
   "id": "20d0ef6d",
   "metadata": {},
   "source": [
    "Calculating distortion based on NSD analysis for 50 Porphyrin samples in gas phase"
   ]
  },
  {
   "cell_type": "code",
   "execution_count": null,
   "id": "a5b8b230",
   "metadata": {},
   "outputs": [],
   "source": [
    "# imports your file - I find list compehensions easier than list.append()\n",
    "molecule_name = \"010\"\n",
    "with open(f\"/Users/samirabaghbanbari/samira/FREQ-por/{molecule_name}.xyz\") as f:\n",
    "    lines = f.readlines()\n",
    "    xyzmat = np.array([line.strip().split()[1:] \n",
    "                       for line in lines \n",
    "                       if line.startswith((\"N\", \"C\"))], dtype=float)\n",
    "    \n",
    "#this loads a model - the scsd model for porphyrin is the same as the NSD one\n",
    "porphyrin_model = scsd.model_objs_dict.get(\"porphyrin\")\n",
    "\n",
    "#generates an scsd object, that contains our decomposition and plotting functions\n",
    "scsd_mat = scsd.scsd_matrix(xyzmat, model = porphyrin_model)\n",
    "\n",
    "#this runs the decomposition - the options slow the calculation but are necessary to avoid local minima\n",
    "# and mis-assignment or mis-alignment, which would render the result meaningless\n",
    "scsd_mat.calc_scsd(by_graph = True, bhopping = True)\n",
    "\n",
    "#this simply displays the result. column 1 is the scsd value which is like an nsd value times 4. It's the\n",
    "# sum of the movement of all atoms. (1) is the first normal mode, (2) is the second etc. \n",
    "#arr = scsd_mat.html_table(2)\n",
    "print(f\"molecule name is {molecule_name}\")\n",
    "display(HTML(scsd_mat.html_table(2)))\n",
    "\n",
    "# Shows the nearest equivalent structures in the CCDC CSD\n",
    "display(HTML(scsd_mat.compare_table()))\n",
    "\n",
    "# this shows the \"Mondrian\" plot that gives an easy way to interpret the interactions of symmetry \n",
    "# and distortion\n",
    "# the green square represents the C4v symmetry we'd expect from this type of molecule\n",
    "%matplotlib notebook\n",
    "scsd_mat.mondrian(cmap = \"Spectral\", as_type = \"fig\").show()"
   ]
  },
  {
   "cell_type": "code",
   "execution_count": null,
   "id": "cf8a6d69",
   "metadata": {},
   "outputs": [],
   "source": [
    "%matplotlib inline\n",
    "scsd_mat.mondrian(cmap = \"Spectral\", as_type = \"fig\").show()"
   ]
  },
  {
   "cell_type": "code",
   "execution_count": null,
   "id": "2429dd46",
   "metadata": {},
   "outputs": [],
   "source": [
    "\n",
    "my_data = np.load(\"cropped_porphyrine.npy\", allow_pickle=True)[:, :, 1:]\n",
    "    \n",
    "dfs_1, dfs_2 = [], []\n",
    "porphyrin_model = scsd.model_objs_dict.get(\"porphyrin\")\n",
    "for index, xyzmat in enumerate(my_data, start=1):\n",
    "    scsd_mat = scsd.scsd_matrix(xyzmat, model = porphyrin_model)\n",
    "    scsd_mat.calc_scsd(by_graph = True, bhopping = True)\n",
    "    print(f\"molecule index is {index}\")\n",
    "\n",
    "    html_string_1 = scsd_mat.html_table(2)\n",
    "    df_1 = pd.read_html(StringIO(html_string_1))[0]\n",
    "    df_1[\"traj_id\"] = index\n",
    "\n",
    "    html_string_2 = scsd_mat.compare_table()\n",
    "    df_2 = pd.read_html(StringIO(html_string_2))[0]\n",
    "    df_2[\"traj_id\"] = index\n",
    "\n",
    "    dfs_1.append(df_1)\n",
    "    dfs_2.append(df_2)\n",
    "\n",
    "df1 = pd.concat(dfs_1)\n",
    "df2 = pd.concat(dfs_2)"
   ]
  },
  {
   "cell_type": "code",
   "execution_count": null,
   "id": "b4721631",
   "metadata": {},
   "outputs": [],
   "source": [
    "df1.to_csv(\"scsd_50_porphyrine.csv\")"
   ]
  },
  {
   "cell_type": "code",
   "execution_count": null,
   "id": "df19de25",
   "metadata": {},
   "outputs": [],
   "source": [
    "df_2"
   ]
  }
 ],
 "metadata": {
  "@webio": {
   "lastCommId": null,
   "lastKernelId": null
  },
  "kernelspec": {
   "display_name": "venv",
   "language": "python",
   "name": "python3"
  },
  "language_info": {
   "codemirror_mode": {
    "name": "ipython",
    "version": 3
   },
   "file_extension": ".py",
   "mimetype": "text/x-python",
   "name": "python",
   "nbconvert_exporter": "python",
   "pygments_lexer": "ipython3",
   "version": "3.12.10"
  }
 },
 "nbformat": 4,
 "nbformat_minor": 5
}
